{
 "cells": [
  {
   "cell_type": "markdown",
   "id": "55043b55",
   "metadata": {},
   "source": [
    "# conditional and looping statements"
   ]
  },
  {
   "cell_type": "code",
   "execution_count": 2,
   "id": "cd50ccc4",
   "metadata": {},
   "outputs": [
    {
     "name": "stdout",
     "output_type": "stream",
     "text": [
      "enter the positive number:-2\n",
      "number is negative\n"
     ]
    }
   ],
   "source": [
    "#if-else\n",
    "num=int(input(\"enter the positive number:\"))  #dynamic storage #by defaukr string so we include int.\n",
    "if num>0:\n",
    "    print(\"number is positive\")\n",
    "else:\n",
    "    print(\"number is negative\")"
   ]
  },
  {
   "cell_type": "code",
   "execution_count": 5,
   "id": "e8ef2fee",
   "metadata": {},
   "outputs": [
    {
     "name": "stdout",
     "output_type": "stream",
     "text": [
      "enter a value:0\n",
      "number is zero\n"
     ]
    }
   ],
   "source": [
    "#elif\n",
    "#check the number in number is positive,or negative,or zero\n",
    "#enter a number:45\n",
    "#number is positive\n",
    "#enter a number:7\n",
    "#number is negative\n",
    "#enter a number:0\n",
    "#number is 0\n",
    "num=int(input(\"enter a value:\"))\n",
    "if num>0:\n",
    "    print(\"number is positive\")\n",
    "elif(num<0):\n",
    "    print(\"number is negative\")\n",
    "else:\n",
    "    print(\"number is zero\")"
   ]
  },
  {
   "cell_type": "code",
   "execution_count": 11,
   "id": "71fc188e",
   "metadata": {},
   "outputs": [
    {
     "name": "stdout",
     "output_type": "stream",
     "text": [
      "enter a value:-8\n",
      "value is negative\n"
     ]
    }
   ],
   "source": [
    "#nested if\n",
    "num=int(input(\"enter a value:\"))\n",
    "if(num>=0):\n",
    "    if num==0:\n",
    "        print(\"number is zero\")\n",
    "    else:\n",
    "        print(\"number is positive\")\n",
    "else:\n",
    "    print(\"value is negative\")"
   ]
  },
  {
   "cell_type": "code",
   "execution_count": 24,
   "id": "53365e15",
   "metadata": {},
   "outputs": [
    {
     "name": "stdout",
     "output_type": "stream",
     "text": [
      "enter the city name:hyderbad\n",
      "Invalid choice\n"
     ]
    }
   ],
   "source": [
    "#where u accept the city name and based on the city name print the monument.\n",
    "#agra=tajmahal\n",
    "#jaipur=jalmahal\n",
    "#mumbai=gateway of india\n",
    "city=input(\"enter the city name:\").lower()\n",
    "if (city==\"agra\"):\n",
    "    print(\"monument is tajmahal\")\n",
    "elif(city==\"jaipur\"):\n",
    "    print(\"monument is jalmahal\")\n",
    "elif(city==\"mumbai\"):\n",
    "    print(\"monument is gateway_of_india\")\n",
    "else:\n",
    "    print(\"Invalid choice\")\n",
    "    "
   ]
  },
  {
   "cell_type": "code",
   "execution_count": 25,
   "id": "bacded09",
   "metadata": {},
   "outputs": [
    {
     "name": "stdout",
     "output_type": "stream",
     "text": [
      "enter the value12\n",
      "number is divisible by 2 and 12\n"
     ]
    }
   ],
   "source": [
    "#write a program to check the number is divisible by 2 and 12.\n",
    "num=int(input(\"enter the value\"))\n",
    "if num%2==0 and num%12==0:\n",
    "    print(\"number is divisible by 2 and 12\")\n",
    "else:\n",
    "    print(\"number is not divisible by 2 and 12\")"
   ]
  },
  {
   "cell_type": "code",
   "execution_count": 32,
   "id": "71be4c76",
   "metadata": {},
   "outputs": [
    {
     "name": "stdout",
     "output_type": "stream",
     "text": [
      "enter  value:24\n",
      "number is divisiblle by 2 and 3\n"
     ]
    }
   ],
   "source": [
    "#write a python program to check the number is divisible by 2 and 3 conditions are:\n",
    "#1.number is divisible by only 2 only\n",
    "#2.number is divisible by 3 only\n",
    "#3.number is divisible by 2 and 3 both\n",
    "#4.number is not divisible by 2 and 3\n",
    "a=int(input(\"enter  value:\"))\n",
    "if a%2==0:\n",
    "    if a%3==0:\n",
    "        print(\"number is divisible by 2 and 3\")\n",
    "    else:\n",
    "        print(\"number is divisible by 2 only.\")\n",
    "else:\n",
    "    if a%3==0:\n",
    "        print(\"number is divisible by 3 only.\")\n",
    "    else:\n",
    "        print(\"number is not divisible by 2 and 3.\")"
   ]
  },
  {
   "cell_type": "code",
   "execution_count": null,
   "id": "4b7dfa7b",
   "metadata": {},
   "outputs": [],
   "source": [
    "print(good afternoon)\n",
    "print(second half)\n",
    "print(good afternoon)\n",
    "print(first half)\n",
    "#looping statement:block of code that will execute till the time condition evaluates true.\n",
    "#(enter controlled loop)"
   ]
  },
  {
   "cell_type": "code",
   "execution_count": 3,
   "id": "6a1d4edf",
   "metadata": {},
   "outputs": [
    {
     "name": "stdout",
     "output_type": "stream",
     "text": [
      "value of a 1\n",
      "value of a 2\n",
      "value of a 3\n",
      "value of a 4\n",
      "value of a 5\n",
      "value of a 6\n",
      "value of a 7\n",
      "value of a 8\n",
      "value of a 9\n"
     ]
    }
   ],
   "source": [
    "a=1\n",
    "while(a<10):\n",
    "    print(\"value of a\",a)\n",
    "    a+=1"
   ]
  },
  {
   "cell_type": "code",
   "execution_count": 9,
   "id": "83bbee7d",
   "metadata": {},
   "outputs": [
    {
     "name": "stdout",
     "output_type": "stream",
     "text": [
      "value of a 10\n",
      "value of a 9\n",
      "value of a 8\n",
      "value of a 7\n",
      "value of a 6\n",
      "value of a 5\n",
      "value of a 4\n",
      "value of a 3\n",
      "value of a 2\n",
      "value of a 1\n",
      "value of a 0\n"
     ]
    }
   ],
   "source": [
    "a=10\n",
    "while(a>=0):\n",
    "    print(\"value of a\",a)\n",
    "    a-=1"
   ]
  },
  {
   "cell_type": "markdown",
   "id": "eee44ac5",
   "metadata": {},
   "source": [
    "### print a table of user input"
   ]
  },
  {
   "cell_type": "code",
   "execution_count": 15,
   "id": "548a3316",
   "metadata": {},
   "outputs": [
    {
     "name": "stdout",
     "output_type": "stream",
     "text": [
      "enter a table:5\n",
      "enter a strating value4\n",
      "enter a ending value9\n",
      "20\n",
      "25\n",
      "30\n",
      "35\n",
      "40\n",
      "45\n"
     ]
    }
   ],
   "source": [
    "#enter a table for printing the table\n",
    "#enter a starting:5\n",
    "#enter a ending:15\n",
    "num=int(input(\"enter a table:\"))\n",
    "start=int(input(\"enter a strating value\"))\n",
    "end=int(input(\"enter a ending value\"))\n",
    "a=start\n",
    "while a<=end:\n",
    "    print(num*a)\n",
    "    a+=1"
   ]
  },
  {
   "cell_type": "code",
   "execution_count": 19,
   "id": "f308f7dc",
   "metadata": {},
   "outputs": [
    {
     "name": "stdout",
     "output_type": "stream",
     "text": [
      "enter a table:2\n",
      "enter a starting value12\n",
      "enter a ending value16\n",
      "24\n",
      "26\n",
      "28\n",
      "30\n",
      "32\n"
     ]
    }
   ],
   "source": [
    "num=int(input(\"enter a table:\"))\n",
    "start=int(input(\"enter a starting value\"))\n",
    "end=int(input(\"enter a ending value\"))\n",
    "while start<=end:\n",
    "    print(num*start)\n",
    "    start+=1"
   ]
  },
  {
   "cell_type": "code",
   "execution_count": 17,
   "id": "4a549e0a",
   "metadata": {},
   "outputs": [
    {
     "name": "stdout",
     "output_type": "stream",
     "text": [
      "12\n",
      "34\n",
      "56\n",
      "78\n",
      "90\n"
     ]
    }
   ],
   "source": [
    "#for loop is used to iterate over a string,list or tuple etc..\n",
    "#variable\n",
    "a=[12,34,56,78,90]\n",
    "for x in a:\n",
    "    print(x)"
   ]
  },
  {
   "cell_type": "code",
   "execution_count": 20,
   "id": "0b8a2269",
   "metadata": {},
   "outputs": [
    {
     "name": "stdout",
     "output_type": "stream",
     "text": [
      "12\n",
      "34\n",
      "56\n",
      "78\n",
      "90\n"
     ]
    }
   ],
   "source": [
    "#run the code that will display only those numbers which is divisible by 2.\n",
    "a=[12,34,56,78,90,33]\n",
    "for x in a:\n",
    "    if x%2==0:\n",
    "        print(x)"
   ]
  },
  {
   "cell_type": "code",
   "execution_count": null,
   "id": "c02ce21c",
   "metadata": {},
   "outputs": [],
   "source": [
    "#start:it will start from exact point\n",
    "#end:it will step one step earlier"
   ]
  },
  {
   "cell_type": "code",
   "execution_count": 22,
   "id": "2caf5372",
   "metadata": {},
   "outputs": [
    {
     "name": "stdout",
     "output_type": "stream",
     "text": [
      "1\n",
      "2\n",
      "3\n",
      "4\n"
     ]
    }
   ],
   "source": [
    "#range()-to get the outcome for particular values only\n",
    "#range(start:end:stepdiff(optional))\n",
    "for x in range(1,5):\n",
    "    print(x)"
   ]
  },
  {
   "cell_type": "code",
   "execution_count": 23,
   "id": "573575e6",
   "metadata": {},
   "outputs": [
    {
     "name": "stdout",
     "output_type": "stream",
     "text": [
      "2\n",
      "4\n",
      "6\n",
      "8\n",
      "10\n",
      "12\n",
      "14\n",
      "16\n",
      "18\n",
      "20\n"
     ]
    }
   ],
   "source": [
    "for x in range(2,22,2):\n",
    "    print(x)"
   ]
  },
  {
   "cell_type": "markdown",
   "id": "9440c0d7",
   "metadata": {},
   "source": [
    "#### start point from user end point from user and print the number"
   ]
  },
  {
   "cell_type": "code",
   "execution_count": 25,
   "id": "52ca2d99",
   "metadata": {},
   "outputs": [
    {
     "name": "stdout",
     "output_type": "stream",
     "text": [
      "2\n",
      "3\n",
      "4\n",
      "5\n",
      "6\n",
      "7\n",
      "8\n",
      "9\n",
      "10\n",
      "11\n",
      "12\n",
      "13\n"
     ]
    }
   ],
   "source": [
    "for x in range(2,14):\n",
    "    print(x)"
   ]
  },
  {
   "cell_type": "code",
   "execution_count": 27,
   "id": "db1b2fcd",
   "metadata": {},
   "outputs": [
    {
     "name": "stdout",
     "output_type": "stream",
     "text": [
      "enter the value3\n",
      "enter the value6\n",
      "3\n",
      "4\n",
      "5\n",
      "6\n"
     ]
    }
   ],
   "source": [
    "start=int(input(\"enter the value\"))\n",
    "end=int(input(\"enter the value\"))\n",
    "for x in range(start,end+1):\n",
    "    print(x)"
   ]
  },
  {
   "cell_type": "code",
   "execution_count": 30,
   "id": "f21ffbd7",
   "metadata": {},
   "outputs": [
    {
     "name": "stdout",
     "output_type": "stream",
     "text": [
      "0\n",
      "15\n",
      "30\n",
      "45\n"
     ]
    }
   ],
   "source": [
    "#print only the values which are divisible by 5 and 15\n",
    "for x in range(50):\n",
    "    if x%5==0 and x%15==0:\n",
    "        print(x)"
   ]
  },
  {
   "cell_type": "code",
   "execution_count": null,
   "id": "5e3cb0b2",
   "metadata": {},
   "outputs": [],
   "source": []
  }
 ],
 "metadata": {
  "kernelspec": {
   "display_name": "Python 3 (ipykernel)",
   "language": "python",
   "name": "python3"
  },
  "language_info": {
   "codemirror_mode": {
    "name": "ipython",
    "version": 3
   },
   "file_extension": ".py",
   "mimetype": "text/x-python",
   "name": "python",
   "nbconvert_exporter": "python",
   "pygments_lexer": "ipython3",
   "version": "3.11.4"
  }
 },
 "nbformat": 4,
 "nbformat_minor": 5
}
