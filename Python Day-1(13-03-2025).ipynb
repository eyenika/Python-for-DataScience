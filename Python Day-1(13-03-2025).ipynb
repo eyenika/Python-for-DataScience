{
 "cells": [
  {
   "cell_type": "markdown",
   "id": "09f6acfc",
   "metadata": {},
   "source": [
    "# Variables are the type of containers where we stoe the actual value."
   ]
  },
  {
   "cell_type": "code",
   "execution_count": 1,
   "id": "88c4aceb",
   "metadata": {},
   "outputs": [
    {
     "name": "stdout",
     "output_type": "stream",
     "text": [
      "16\n"
     ]
    }
   ],
   "source": [
    "a=16\n",
    "b=34.8\n",
    "print(a) #directly printing the value."
   ]
  },
  {
   "cell_type": "code",
   "execution_count": 2,
   "id": "a0544d41",
   "metadata": {},
   "outputs": [
    {
     "name": "stdout",
     "output_type": "stream",
     "text": [
      "value of a: 32\n"
     ]
    }
   ],
   "source": [
    "a=32\n",
    "b=45.9\n",
    "print(\"value of a:\",a)  #writing print in a statement."
   ]
  },
  {
   "cell_type": "code",
   "execution_count": 3,
   "id": "ee33a65c",
   "metadata": {},
   "outputs": [
    {
     "name": "stdout",
     "output_type": "stream",
     "text": [
      "value of a is 34.6 and value of b is 23\n"
     ]
    }
   ],
   "source": [
    "#here we used formating.\n",
    "#formating string is used to write multiple print statements in a single print statements. \n",
    "a=34.6\n",
    "b=23\n",
    "print(f\"value of a is {a} and value of b is {b}\")"
   ]
  },
  {
   "cell_type": "markdown",
   "id": "b3e5405d",
   "metadata": {},
   "source": [
    "# DataType:defines the form of storage."
   ]
  },
  {
   "cell_type": "code",
   "execution_count": 5,
   "id": "a04c6a96",
   "metadata": {},
   "outputs": [
    {
     "name": "stdout",
     "output_type": "stream",
     "text": [
      "<class 'int'>\n",
      "<class 'float'>\n",
      "<class 'str'>\n",
      "<class 'bool'>\n"
     ]
    }
   ],
   "source": [
    "a=99\n",
    "print(type(a))\n",
    "b=34.6\n",
    "print(type(b))\n",
    "c=\"python\"\n",
    "print(type(c))\n",
    "d=True\n",
    "print(type(d))"
   ]
  },
  {
   "cell_type": "markdown",
   "id": "b8922935",
   "metadata": {},
   "source": [
    "# Sequence datatypes:stores multiple values in single varable."
   ]
  },
  {
   "cell_type": "code",
   "execution_count": 7,
   "id": "f685ecd4",
   "metadata": {},
   "outputs": [
    {
     "name": "stdout",
     "output_type": "stream",
     "text": [
      "[12, 45, 67, 89, 90]\n",
      "<class 'list'>\n"
     ]
    }
   ],
   "source": [
    "#list\n",
    "#list is written in square brackets.\n",
    "data1=[12,45,67,89,90]\n",
    "print(data1)\n",
    "print(type(data1))"
   ]
  },
  {
   "cell_type": "code",
   "execution_count": 14,
   "id": "65486486",
   "metadata": {},
   "outputs": [
    {
     "name": "stdout",
     "output_type": "stream",
     "text": [
      "(34, 56, 77, 88, 90)\n",
      "<class 'tuple'>\n"
     ]
    }
   ],
   "source": [
    "#Tuple\n",
    "#tuple is written in parenthesis.\n",
    "data2=(34,56,77,88,90)\n",
    "print(data2)\n",
    "print(type(data2))"
   ]
  },
  {
   "cell_type": "code",
   "execution_count": 13,
   "id": "1e775b44",
   "metadata": {},
   "outputs": [
    {
     "name": "stdout",
     "output_type": "stream",
     "text": [
      "{89, 45, 22, 63}\n",
      "<class 'set'>\n"
     ]
    }
   ],
   "source": [
    "#set\n",
    "#set is written in curly brackets.\n",
    "data3={22,45,89,45,63}\n",
    "print(data3)\n",
    "print(type(data3))"
   ]
  },
  {
   "cell_type": "code",
   "execution_count": 12,
   "id": "bd1e5c50",
   "metadata": {},
   "outputs": [
    {
     "name": "stdout",
     "output_type": "stream",
     "text": [
      "{'std_id': 23, 'std_name': 'YGV'}\n",
      "<class 'dict'>\n"
     ]
    }
   ],
   "source": [
    "#dictionary\n",
    "#dictionary stores the values as key:value.\n",
    "data4={\"std_id\":23,\"std_name\":\"YGV\"}\n",
    "print(data4)\n",
    "print(type(data4))"
   ]
  },
  {
   "cell_type": "markdown",
   "id": "9d219571",
   "metadata": {},
   "source": [
    "# Operators"
   ]
  },
  {
   "cell_type": "markdown",
   "id": "3e248f9b",
   "metadata": {},
   "source": [
    "## Comparision operators"
   ]
  },
  {
   "cell_type": "code",
   "execution_count": 15,
   "id": "fa461f27",
   "metadata": {},
   "outputs": [
    {
     "name": "stdout",
     "output_type": "stream",
     "text": [
      "equal False\n",
      "not equal True\n"
     ]
    }
   ],
   "source": [
    "a=21\n",
    "b=2\n",
    "print(\"equal\",a==b)\n",
    "print(\"not equal\",a!=b)"
   ]
  },
  {
   "cell_type": "code",
   "execution_count": 16,
   "id": "20a96b13",
   "metadata": {},
   "outputs": [
    {
     "name": "stdout",
     "output_type": "stream",
     "text": [
      "equal True\n",
      "not equal False\n",
      "greater False\n",
      "lesser False\n"
     ]
    }
   ],
   "source": [
    "a=21\n",
    "b=21\n",
    "print(\"equal\",a==b)\n",
    "print(\"not equal\",a!=b)\n",
    "print(\"greater\",a>b)\n",
    "print(\"lesser\",a<b)"
   ]
  },
  {
   "cell_type": "code",
   "execution_count": 17,
   "id": "cfe933da",
   "metadata": {},
   "outputs": [
    {
     "name": "stdout",
     "output_type": "stream",
     "text": [
      "equal True\n",
      "not equal False\n",
      "greater or equal True\n",
      "lesser or equal True\n"
     ]
    }
   ],
   "source": [
    "a=21\n",
    "b=21\n",
    "print(\"equal\",a==b)\n",
    "print(\"not equal\",a!=b)\n",
    "print(\"greater or equal\",a>=b)\n",
    "print(\"lesser or equal\",a<=b)"
   ]
  },
  {
   "cell_type": "markdown",
   "id": "8fedb115",
   "metadata": {},
   "source": [
    "## Arithmetic operator"
   ]
  },
  {
   "cell_type": "code",
   "execution_count": 19,
   "id": "10b959b9",
   "metadata": {},
   "outputs": [
    {
     "name": "stdout",
     "output_type": "stream",
     "text": [
      "addition 13\n",
      "subtraction 7\n",
      "multiplication 30\n",
      "division 3.3333333333333335\n",
      "remainder 3\n",
      "exponent 1000\n"
     ]
    }
   ],
   "source": [
    "num1=10\n",
    "num2=3\n",
    "print(\"addition\",num1+num2)\n",
    "print(\"subtraction\",num1-num2)\n",
    "print(\"multiplication\",num1*num2)\n",
    "print(\"division\",num1/num2)\n",
    "print(\"remainder\",num1//num2)\n",
    "print(\"exponent\",num1**num2)\n"
   ]
  },
  {
   "cell_type": "markdown",
   "id": "e08bbc29",
   "metadata": {},
   "source": [
    "## Assignment operator"
   ]
  },
  {
   "cell_type": "code",
   "execution_count": 21,
   "id": "2eff11cc",
   "metadata": {},
   "outputs": [
    {
     "name": "stdout",
     "output_type": "stream",
     "text": [
      "value of a 12\n",
      "value of b 26\n",
      "value of a 38\n",
      "value of a 12\n",
      "value of a 312\n"
     ]
    }
   ],
   "source": [
    "a=12\n",
    "b=26\n",
    "print(\"value of a\",a)\n",
    "print(\"value of b\",b)\n",
    "a+=b\n",
    "print(\"value of a\",a)\n",
    "a-=b\n",
    "print(\"value of a\",a)\n",
    "a*=b\n",
    "print(\"value of a\",a)"
   ]
  },
  {
   "cell_type": "markdown",
   "id": "1c2f1576",
   "metadata": {},
   "source": [
    "## Logical operator"
   ]
  },
  {
   "cell_type": "markdown",
   "id": "3f67666c",
   "metadata": {},
   "source": [
    "### And:all must be true"
   ]
  },
  {
   "cell_type": "code",
   "execution_count": 23,
   "id": "53a49051",
   "metadata": {},
   "outputs": [
    {
     "name": "stdout",
     "output_type": "stream",
     "text": [
      "False\n"
     ]
    }
   ],
   "source": [
    "c1=True\n",
    "c2=False\n",
    "c3=True\n",
    "c4=False\n",
    "print(c1 and c2 and c3 and c4)"
   ]
  },
  {
   "cell_type": "markdown",
   "id": "8c5ad4ff",
   "metadata": {},
   "source": [
    "### Or:either one of the value must be true"
   ]
  },
  {
   "cell_type": "code",
   "execution_count": 24,
   "id": "dc728394",
   "metadata": {},
   "outputs": [
    {
     "name": "stdout",
     "output_type": "stream",
     "text": [
      "True\n"
     ]
    }
   ],
   "source": [
    "c1=False\n",
    "c2=False\n",
    "c3=True\n",
    "c4=False\n",
    "print(c1 or c2 or c3 or c4)"
   ]
  },
  {
   "cell_type": "markdown",
   "id": "11778583",
   "metadata": {},
   "source": [
    "### Not:Negation(opposite value)"
   ]
  },
  {
   "cell_type": "code",
   "execution_count": 25,
   "id": "fa5f3154",
   "metadata": {},
   "outputs": [
    {
     "name": "stdout",
     "output_type": "stream",
     "text": [
      "False\n",
      "True\n",
      "False\n"
     ]
    }
   ],
   "source": [
    "c1=True\n",
    "c2=False\n",
    "print(not c1)\n",
    "print(c1 or c2)\n",
    "print(not(c1 or c2))"
   ]
  },
  {
   "cell_type": "markdown",
   "id": "02782ad4",
   "metadata": {},
   "source": [
    "## Membership operator"
   ]
  },
  {
   "cell_type": "code",
   "execution_count": 26,
   "id": "046f715c",
   "metadata": {},
   "outputs": [
    {
     "name": "stdout",
     "output_type": "stream",
     "text": [
      "False\n",
      "True\n"
     ]
    }
   ],
   "source": [
    "data=\"water\"\n",
    "print(\"o\" in data) #looking for value.\n",
    "print(\"o\" not in data) #not looking for the value(element must not be present)"
   ]
  },
  {
   "cell_type": "code",
   "execution_count": 27,
   "id": "70342192",
   "metadata": {},
   "outputs": [
    {
     "name": "stdout",
     "output_type": "stream",
     "text": [
      "False\n"
     ]
    }
   ],
   "source": [
    "a=500\n",
    "b=500\n",
    "print(a is b) #identical must"
   ]
  },
  {
   "cell_type": "code",
   "execution_count": 29,
   "id": "e0618b5a",
   "metadata": {},
   "outputs": [
    {
     "name": "stdout",
     "output_type": "stream",
     "text": [
      "False\n",
      "True\n",
      "False\n"
     ]
    }
   ],
   "source": [
    "a=500\n",
    "b=500\n",
    "print(a is c)\n",
    "print(b is not c)\n",
    "print(b is c)"
   ]
  },
  {
   "cell_type": "markdown",
   "id": "5ab65cd5",
   "metadata": {},
   "source": [
    "# Addition of two numbers"
   ]
  },
  {
   "cell_type": "code",
   "execution_count": 31,
   "id": "c28ae2c9",
   "metadata": {},
   "outputs": [
    {
     "name": "stdout",
     "output_type": "stream",
     "text": [
      "30\n"
     ]
    }
   ],
   "source": [
    "a=10\n",
    "b=20\n",
    "c=a+b\n",
    "print(c)"
   ]
  },
  {
   "cell_type": "markdown",
   "id": "bc42ddbd",
   "metadata": {},
   "source": [
    "### input():-"
   ]
  },
  {
   "cell_type": "code",
   "execution_count": 32,
   "id": "98f1b4b1",
   "metadata": {},
   "outputs": [
    {
     "name": "stdout",
     "output_type": "stream",
     "text": [
      "enter a value: q\n",
      "value of a q\n"
     ]
    }
   ],
   "source": [
    "a=input(\"enter a value: \")\n",
    "print(\"value of a\",a)"
   ]
  },
  {
   "cell_type": "code",
   "execution_count": 34,
   "id": "e54b0ef7",
   "metadata": {},
   "outputs": [
    {
     "name": "stdout",
     "output_type": "stream",
     "text": [
      "enter a value20\n",
      "enter b value30\n",
      "2030\n"
     ]
    }
   ],
   "source": [
    "a=input(\"enter a value\")\n",
    "b=input(\"enter b value\")\n",
    "c=a+b\n",
    "print(c) #concatenation value"
   ]
  },
  {
   "cell_type": "code",
   "execution_count": 35,
   "id": "da77258b",
   "metadata": {},
   "outputs": [
    {
     "name": "stdout",
     "output_type": "stream",
     "text": [
      "enter a value21\n",
      "enter b value3\n",
      "<class 'int'>\n",
      "24\n"
     ]
    }
   ],
   "source": [
    "a=int(input(\"enter a value\"))\n",
    "b=int(input(\"enter b value\"))\n",
    "print(type(a))\n",
    "c=a+b\n",
    "print(c)"
   ]
  },
  {
   "cell_type": "markdown",
   "id": "5d2a9801",
   "metadata": {},
   "source": [
    "## Conditional statements"
   ]
  },
  {
   "cell_type": "code",
   "execution_count": 36,
   "id": "87042b61",
   "metadata": {},
   "outputs": [
    {
     "name": "stdout",
     "output_type": "stream",
     "text": [
      "hello\n",
      "welcome\n",
      "to python\n"
     ]
    }
   ],
   "source": [
    "print(\"hello\")\n",
    "print(\"welcome\")\n",
    "print(\"to python\")"
   ]
  },
  {
   "cell_type": "markdown",
   "id": "ee5c6a45",
   "metadata": {},
   "source": [
    "## Check for the number greater than 100"
   ]
  },
  {
   "cell_type": "code",
   "execution_count": 1,
   "id": "c68b29c1",
   "metadata": {},
   "outputs": [
    {
     "name": "stdout",
     "output_type": "stream",
     "text": [
      "enter a value40\n",
      "False\n"
     ]
    }
   ],
   "source": [
    "a=int(input(\"enter a value\"))\n",
    "print(a>100)"
   ]
  },
  {
   "cell_type": "code",
   "execution_count": 2,
   "id": "9bd427e6",
   "metadata": {},
   "outputs": [
    {
     "name": "stdout",
     "output_type": "stream",
     "text": [
      "enter a value600\n",
      "True\n",
      "good\n",
      "thankyou\n"
     ]
    }
   ],
   "source": [
    "a=int(input(\"enter a value\"))\n",
    "print(a>100)\n",
    "if a>100:\n",
    "    print(\"good\")\n",
    "print(\"thankyou\")"
   ]
  },
  {
   "cell_type": "code",
   "execution_count": 3,
   "id": "7fae8b99",
   "metadata": {},
   "outputs": [
    {
     "name": "stdout",
     "output_type": "stream",
     "text": [
      "enter a value89\n",
      "thankyou\n"
     ]
    }
   ],
   "source": [
    "a=int(input(\"enter a value\"))\n",
    "if a>100:\n",
    "    print(\"good\")\n",
    "print(\"thankyou\")"
   ]
  },
  {
   "cell_type": "code",
   "execution_count": 4,
   "id": "3749b844",
   "metadata": {},
   "outputs": [
    {
     "name": "stdout",
     "output_type": "stream",
     "text": [
      "enter a value67\n",
      "thankyou\n"
     ]
    }
   ],
   "source": [
    "a=int(input(\"enter a value\"))\n",
    "if a>100:\n",
    "    print(\"good\")\n",
    "print(\"thankyou\")"
   ]
  },
  {
   "cell_type": "code",
   "execution_count": null,
   "id": "160b5f69",
   "metadata": {},
   "outputs": [],
   "source": []
  }
 ],
 "metadata": {
  "kernelspec": {
   "display_name": "Python 3 (ipykernel)",
   "language": "python",
   "name": "python3"
  },
  "language_info": {
   "codemirror_mode": {
    "name": "ipython",
    "version": 3
   },
   "file_extension": ".py",
   "mimetype": "text/x-python",
   "name": "python",
   "nbconvert_exporter": "python",
   "pygments_lexer": "ipython3",
   "version": "3.11.4"
  }
 },
 "nbformat": 4,
 "nbformat_minor": 5
}
